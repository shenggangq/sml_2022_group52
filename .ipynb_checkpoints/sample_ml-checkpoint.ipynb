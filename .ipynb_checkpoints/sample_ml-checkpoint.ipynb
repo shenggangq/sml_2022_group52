{
 "cells": [
  {
   "cell_type": "code",
   "execution_count": 2,
   "metadata": {},
   "outputs": [],
   "source": [
    "import random\n",
    "import json\n",
    "import numpy as np\n",
    "import pandas as pd\n",
    "import math"
   ]
  },
  {
   "cell_type": "code",
   "execution_count": 3,
   "metadata": {},
   "outputs": [],
   "source": [
    "train = json.load(open('train.json'))\n",
    "test = json.load(open('test.json'))"
   ]
  },
  {
   "cell_type": "code",
   "execution_count": 40,
   "metadata": {},
   "outputs": [],
   "source": [
    "# One hot for venue\n",
    "def one_hot(data):\n",
    "    venue = []\n",
    "    np.array(venue)\n",
    "    for record in data:\n",
    "        venue_empty = np.zeros(466)# 465 +1 empty\n",
    "        venue_data = record['venue']\n",
    "        if venue_data == '':\n",
    "            venue_data = 465\n",
    "        venue_empty[venue_data] = 1\n",
    "        venue.append( venue_empty)\n",
    "        "
   ]
  },
  {
   "cell_type": "code",
   "execution_count": 75,
   "metadata": {},
   "outputs": [
    {
     "data": {
      "text/plain": [
       "6575"
      ]
     },
     "execution_count": 75,
     "metadata": {},
     "output_type": "execute_result"
    }
   ],
   "source": [
    "# One hot for author\n",
    "author = {}\n",
    "for data in train:\n",
    "    author_record = np.array(data['authors'])\n",
    "    pa_bol = author_record<100\n",
    "    ca_bol = author_record>=100\n",
    "    co_author = author_record[ca_bol]\n",
    "    if author_record[pa_bol == True].size != 0:\n",
    "        for i in co_author:\n",
    "            author[i] = 1\n",
    "co_list = list(author.keys())\n"
   ]
  },
  {
   "cell_type": "code",
   "execution_count": 82,
   "metadata": {},
   "outputs": [],
   "source": [
    "co_idx = {}\n",
    "for i in range(len(co_list)):\n",
    "    co_idx[co_list[i]]=i"
   ]
  },
  {
   "cell_type": "code",
   "execution_count": 84,
   "metadata": {},
   "outputs": [],
   "source": [
    "coauthor = []\n",
    "for data in train:\n",
    "    author_record = np.array(data['authors'])\n",
    "    pa_bol = author_record<100\n",
    "    ca_bol = author_record>=100\n",
    "    co_author = author_record[ca_bol]\n",
    "    co_empty = np.zeros(len(co_list)+1)\n",
    "    if author_record[pa_bol == True].size == 0:\n",
    "        co_empty[len(co_list)]=1\n",
    "    else:\n",
    "        for j in co_author:\n",
    "            co_empty[co_idx[j]] = 1\n",
    "    coauthor.append(co_empty)\n",
    "coauthor = np.array(coauthor)\n",
    "        "
   ]
  },
  {
   "cell_type": "code",
   "execution_count": 57,
   "metadata": {},
   "outputs": [],
   "source": [
    "# one hot for year\n",
    "year = []\n",
    "for data in train:\n",
    "    year_empty = np.zeros(20)\n",
    "    year_record = data['year']\n",
    "    year_empty[year_record] = 1\n",
    "    year.append(year_empty)"
   ]
  },
  {
   "cell_type": "code",
   "execution_count": null,
   "metadata": {},
   "outputs": [],
   "source": []
  }
 ],
 "metadata": {
  "kernelspec": {
   "display_name": "Python 3 (ipykernel)",
   "language": "python",
   "name": "python3"
  },
  "language_info": {
   "codemirror_mode": {
    "name": "ipython",
    "version": 3
   },
   "file_extension": ".py",
   "mimetype": "text/x-python",
   "name": "python",
   "nbconvert_exporter": "python",
   "pygments_lexer": "ipython3",
   "version": "3.9.7"
  }
 },
 "nbformat": 4,
 "nbformat_minor": 2
}
