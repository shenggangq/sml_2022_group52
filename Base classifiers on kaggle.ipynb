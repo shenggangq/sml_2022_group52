{
 "cells": [
  {
   "cell_type": "code",
   "execution_count": 1,
   "source": [
    "\n",
    "import json\n",
    "import numpy as np\n",
    "from gensim.models.doc2vec import Doc2Vec\n",
    "from gensim.models.doc2vec import TaggedDocument"
   ],
   "outputs": [],
   "metadata": {}
  },
  {
   "cell_type": "code",
   "execution_count": 2,
   "source": [
    "def label (dataCategory,datas):\n",
    "    labels = []\n",
    "    if dataCategory == 'train':\n",
    "        for idx in range(len(datas)):\n",
    "            data = datas[idx]    \n",
    "            author = np.array(data['authors'])\n",
    "            prolific_author = author<100\n",
    "            prolific_author = author[prolific_author]\n",
    "            empty_author = np.zeros(101) # 100 plus 1 negative\n",
    "            if len(prolific_author)!=0:\n",
    "                empty_author[prolific_author]=1\n",
    "            else:\n",
    "                empty_author[100]=1\n",
    "            labels.append(empty_author)\n",
    " \n",
    "    return labels"
   ],
   "outputs": [],
   "metadata": {}
  },
  {
   "cell_type": "code",
   "execution_count": 3,
   "source": [
    "def text_feature (dataCategory, datas, model):\n",
    "    title = []\n",
    "    abstract = []\n",
    "    for data in datas:\n",
    "        single_abstract = data['abstract']\n",
    "        single_title = data['title']\n",
    "        title.append(single_title)\n",
    "        abstract.append(single_abstract)\n",
    "    common_texts = title+abstract\n",
    "    # doc2vec code from https://radimrehurek.com/gensim/models/doc2vec.html\n",
    "    documents = [TaggedDocument(doc,[i])for i,doc in enumerate(common_texts)]\n",
    "    if dataCategory == 'train':\n",
    "        model=Doc2Vec(documents,vector_size = 256,window = 2,min_count = 1)#no worker\n",
    "        model.train(documents, total_examples=model.corpus_count, epochs=30)# 20\n",
    "    full_text = []\n",
    "    for data in datas:\n",
    "        abstract2 = data['abstract']\n",
    "        title2 = data['title']\n",
    "        sums = abstract2+title2\n",
    "        text_empty = np.zeros(256)\n",
    "        for word in sums:\n",
    "            word_single = []\n",
    "            word_single.append(str(word))\n",
    "        text_empty+= model.infer_vector(word_single)   \n",
    "        full_text.append(text_empty)\n",
    "    full_text = np.array(full_text)\n",
    "    return (full_text, model)"
   ],
   "outputs": [],
   "metadata": {}
  },
  {
   "cell_type": "code",
   "execution_count": 4,
   "source": [
    "def onehot_feature (dataCategory,datas, co_idx={}):\n",
    "    if dataCategory == 'train':\n",
    "        author = {}\n",
    "        co_idx = {}\n",
    "        coauthor = []\n",
    "        for record in datas:\n",
    "            author_record = np.array(record['authors'])\n",
    "            pa_bol = author_record<100\n",
    "            ca_bol = author_record>=100\n",
    "            co_author = author_record[ca_bol]\n",
    "            if author_record[pa_bol == True].size != 0:\n",
    "                for i in co_author:\n",
    "                    author[i] = 1\n",
    "        index = author.keys()\n",
    "        coauthorList = list(index)\n",
    "        \n",
    "        for i in range(len(coauthorList)):\n",
    "            co_idx[coauthorList[i]]=i\n",
    "\n",
    "        for record in datas:\n",
    "            author_record = np.array(record['authors'])\n",
    "            pa_bol = author_record<100\n",
    "            ca_bol = author_record>=100\n",
    "            co_author = author_record[ca_bol]\n",
    "            colen = len(coauthorList)\n",
    "            co_empty = np.zeros(colen+1)\n",
    "            if author_record[pa_bol == True].size == 0:\n",
    "                co_empty[colen]=1.\n",
    "            else:\n",
    "                for j in co_author:\n",
    "                    idx = co_idx[j]\n",
    "                    co_empty[idx] = 1\n",
    "            coauthor.append(co_empty)\n",
    "        \n",
    "        coauthor = np.array(coauthor)\n",
    "        \n",
    "        # year \n",
    "        year = []\n",
    "        for record in datas:\n",
    "            year_empty = np.zeros(20)\n",
    "            year_record = record['year']\n",
    "            year_empty[year_record] = 1\n",
    "            year.append(year_empty)\n",
    "        year = np.array(year)\n",
    "        \n",
    "        # venue    \n",
    "        venue = []\n",
    "        np.array(venue)\n",
    "        for record in datas:\n",
    "            venue_empty = np.zeros(466)# 465 +1 empty\n",
    "            venue_data = record['venue']\n",
    "            if venue_data == '':\n",
    "                venue_data = 465\n",
    "            venue_empty[venue_data] = 1\n",
    "            venue.append( venue_empty)\n",
    "        onehot = np.concatenate((venue,coauthor),axis =1 )\n",
    "        return (onehot, co_idx)\n",
    "    \n",
    "    elif dataCategory == 'test':\n",
    "        author = {}\n",
    "        index = co_idx.keys()\n",
    "        coauthorList = list(index)\n",
    "        coauthor = []\n",
    "        for record in datas:\n",
    "            author_record = np.array(record['coauthors'])\n",
    "            colen = len(coauthorList)\n",
    "            co_empty = np.zeros(colen+1)\n",
    "            for au in author_record:\n",
    "                if au in coauthorList:\n",
    "                    co_empty[co_idx[au]] = 1\n",
    "                else:\n",
    "                    co_empty[-1] = 1\n",
    "            coauthor.append(co_empty)\n",
    "        coauthor = np.array(coauthor)\n",
    "        \n",
    "        # year \n",
    "        year = []\n",
    "        for record in datas:\n",
    "            year_empty = np.zeros(20)\n",
    "            year_record = record['year']\n",
    "            year_empty[year_record] = 1\n",
    "            year.append(year_empty)\n",
    "        year = np.array(year)\n",
    "        \n",
    "        #venue\n",
    "        venue = []\n",
    "        np.array(venue)\n",
    "        for record in datas:\n",
    "            venue_empty = np.zeros(466)# 465 +1 empty\n",
    "            venue_data = record['venue']\n",
    "            if venue_data == '':\n",
    "                venue_data = 465\n",
    "            venue_empty[venue_data] = 1\n",
    "            venue.append( venue_empty)\n",
    "        onehot = np.concatenate((venue,coauthor),axis =1 )\n",
    "        return (onehot, None)"
   ],
   "outputs": [],
   "metadata": {}
  },
  {
   "cell_type": "code",
   "execution_count": 5,
   "source": [
    "def feature (dataCategory,datas, model, co_list):\n",
    "    text, model = text_feature (dataCategory, datas, model)\n",
    "    one_hot, co_list = onehot_feature(dataCategory,datas, co_list)\n",
    "    feature = np.concatenate((text,one_hot),axis =1 )\n",
    "    return (feature, model, co_list)\n",
    "    "
   ],
   "outputs": [],
   "metadata": {}
  },
  {
   "cell_type": "code",
   "execution_count": null,
   "source": [],
   "outputs": [],
   "metadata": {}
  },
  {
   "cell_type": "code",
   "execution_count": 6,
   "source": [
    "train_data = json.load(open('train.json'))\n",
    "test_data = json.load(open('test.json'))"
   ],
   "outputs": [],
   "metadata": {}
  },
  {
   "cell_type": "code",
   "execution_count": 7,
   "source": [
    "model = None\n",
    "co_idx = None\n",
    "train_feature, model, co_idx = feature('train',train_data, model, co_idx)\n",
    "np.save('feature_train.npy',train_feature)"
   ],
   "outputs": [],
   "metadata": {}
  },
  {
   "cell_type": "code",
   "execution_count": 8,
   "source": [
    "test_feature, _, _ = feature('test',test_data, model, co_idx)\n",
    "np.save('feature_test.npy',test_feature)"
   ],
   "outputs": [],
   "metadata": {}
  },
  {
   "cell_type": "code",
   "execution_count": 9,
   "source": [
    "label_train = label ('train',train_data)\n",
    "np.save('labels.npy',label_train)"
   ],
   "outputs": [],
   "metadata": {}
  },
  {
   "cell_type": "code",
   "execution_count": 10,
   "source": [
    "len(train_feature)\n",
    "    "
   ],
   "outputs": [
    {
     "output_type": "execute_result",
     "data": {
      "text/plain": [
       "25793"
      ]
     },
     "metadata": {},
     "execution_count": 10
    }
   ],
   "metadata": {}
  },
  {
   "cell_type": "code",
   "execution_count": 11,
   "source": [
    "from sklearn.preprocessing import MultiLabelBinarizer\n",
    "from sklearn.multiclass import OneVsRestClassifier\n",
    "from sklearn.naive_bayes import MultinomialNB\n",
    "from sklearn.tree import DecisionTreeClassifier\n",
    "from sklearn.linear_model import LogisticRegression\n",
    "from sklearn.svm import SVC\n",
    "from sklearn.neural_network import MLPClassifier"
   ],
   "outputs": [],
   "metadata": {}
  },
  {
   "cell_type": "code",
   "execution_count": 12,
   "source": [
    "import json\n",
    "import numpy as np\n",
    "from typing import *\n",
    "from sklearn.model_selection import train_test_split\n",
    "import torch.nn as nn\n",
    "import torch\n",
    "import tensorflow as tf\n",
    "\n",
    "import random\n",
    "import numpy as np\n",
    "import pandas as pd\n",
    "import math\n",
    "from collections import Counter\n",
    "from sklearn.utils import shuffle\n",
    "from sklearn.metrics import roc_auc_score,roc_curve,auc\n",
    "from sklearn.model_selection import GridSearchCV\n",
    "from sklearn.naive_bayes import MultinomialNB\n",
    "from sklearn.linear_model import LogisticRegression\n",
    "from sklearn.preprocessing import StandardScaler\n",
    "from sklearn.neighbors import KNeighborsClassifier\n",
    "from sklearn.naive_bayes import GaussianNB\n",
    "from sklearn import svm"
   ],
   "outputs": [],
   "metadata": {}
  },
  {
   "cell_type": "code",
   "execution_count": 243,
   "source": [
    "train_small = train_feature[0:4000]\n",
    "label_small = label_train[0:4000]"
   ],
   "outputs": [],
   "metadata": {}
  },
  {
   "cell_type": "code",
   "execution_count": null,
   "source": [],
   "outputs": [],
   "metadata": {}
  },
  {
   "cell_type": "code",
   "execution_count": 244,
   "source": [
    "x_train,x_dev,y_train,y_dev=train_test_split(train_small,label_small,test_size=0.20,random_state=48)"
   ],
   "outputs": [],
   "metadata": {}
  },
  {
   "cell_type": "code",
   "execution_count": 245,
   "source": [
    "x_train.shape"
   ],
   "outputs": [
    {
     "output_type": "execute_result",
     "data": {
      "text/plain": [
       "(3200, 7298)"
      ]
     },
     "metadata": {},
     "execution_count": 245
    }
   ],
   "metadata": {}
  },
  {
   "cell_type": "code",
   "execution_count": 246,
   "source": [
    "\n",
    "lab_train= np.vstack(y_train)\n",
    "lab_train.shape"
   ],
   "outputs": [
    {
     "output_type": "execute_result",
     "data": {
      "text/plain": [
       "(3200, 101)"
      ]
     },
     "metadata": {},
     "execution_count": 246
    }
   ],
   "metadata": {}
  },
  {
   "cell_type": "code",
   "execution_count": 247,
   "source": [
    "from sklearn.preprocessing import MultiLabelBinarizer\n",
    "from sklearn.multiclass import OneVsRestClassifier\n",
    "from sklearn.tree import DecisionTreeClassifier"
   ],
   "outputs": [],
   "metadata": {}
  },
  {
   "cell_type": "code",
   "execution_count": 248,
   "source": [
    "import warnings\n",
    "warnings.filterwarnings(\"ignore\")"
   ],
   "outputs": [],
   "metadata": {}
  },
  {
   "cell_type": "code",
   "execution_count": 267,
   "source": [
    "for clf in [DecisionTreeClassifier]:\n",
    "    model = OneVsRestClassifier(clf()) \n",
    "    model.fit(x_train,lab_train)\n",
    "    print(clf.__name__,'train score：%.2f' % model.score(x_train,lab_train), 'test score：%.2f' % model.score(x_dev, y_dev))\n",
    "    print(clf.__name__,\"f1_score\",f1_score(lab_train,model.predict(x_train),average=\"samples\"))\n",
    "    out_list = model.predict(test_feature)\n",
    "    #print(model.predict(test_feature))"
   ],
   "outputs": [
    {
     "output_type": "stream",
     "name": "stdout",
     "text": [
      "DecisionTreeClassifier train score：0.99 test score：0.79\n",
      "DecisionTreeClassifier f1_score 0.988125\n"
     ]
    }
   ],
   "metadata": {}
  },
  {
   "cell_type": "code",
   "execution_count": 288,
   "source": [
    "for clf in [LogisticRegression]:\n",
    "    model = OneVsRestClassifier(clf()) \n",
    "    model.fit(x_train,lab_train)\n",
    "    print(clf.__name__,'train score：%.2f' % model.score(x_train,lab_train), 'test score：%.2f' % model.score(x_dev, y_dev))\n",
    "    print(clf.__name__,\"f1_score\",f1_score(lab_train,model.predict(x_train),average=\"samples\"))\n",
    "    out_list = model.predict(test_feature)"
   ],
   "outputs": [
    {
     "output_type": "stream",
     "name": "stdout",
     "text": [
      "LogisticRegression train score：0.72 test score：0.72\n",
      "LogisticRegression f1_score 0.72390625\n"
     ]
    }
   ],
   "metadata": {}
  },
  {
   "cell_type": "code",
   "execution_count": 251,
   "source": [
    "for clf in [SVC]:\n",
    "    model = OneVsRestClassifier(clf()) \n",
    "    model.fit(x_train,lab_train)\n",
    "    print(clf.__name__,'train score：%.2f' % model.score(x_train,lab_train), 'test score：%.2f' % model.score(x_dev, y_dev))\n",
    "    print(clf.__name__,\"f1_score\",f1_score(lab_train,model.predict(x_train),average=\"samples\"))\n",
    "    out_list = model.predict(test_feature)"
   ],
   "outputs": [
    {
     "output_type": "stream",
     "name": "stdout",
     "text": [
      "SVC train score：0.81 test score：0.71\n",
      "SVC f1_score 0.8150232843137255\n"
     ]
    }
   ],
   "metadata": {}
  },
  {
   "cell_type": "code",
   "execution_count": 259,
   "source": [
    "for clf in [MLPClassifier]: \n",
    "    model = OneVsRestClassifier(clf()) \n",
    "    model.fit(x_train,lab_train)\n",
    "    print(clf.__name__,'train score：%.2f' % model.score(x_train,lab_train), 'test score：%.2f' % model.score(x_dev, y_dev))\n",
    "    print(clf.__name__,\"f1_score\",f1_score(lab_train,model.predict(x_train),average=\"samples\"))\n",
    "    out_list = model.predict(test_feature)"
   ],
   "outputs": [
    {
     "output_type": "stream",
     "name": "stdout",
     "text": [
      "MLPClassifier train score：0.98 test score：0.78\n",
      "MLPClassifier f1_score 0.9828125\n"
     ]
    }
   ],
   "metadata": {}
  },
  {
   "cell_type": "code",
   "execution_count": 276,
   "source": [
    "def transfer_f(list1):\n",
    "    outputlist = []\n",
    "    new_list = [] \n",
    "    for i in list1:\n",
    "        for j in range(len(i)):\n",
    "            if(i[j]==1)and(j!=100):\n",
    "                new_list.append(j)\n",
    "        outputlist.append((new_list)) \n",
    "        new_list = []\n",
    "    return outputlist"
   ],
   "outputs": [],
   "metadata": {}
  },
  {
   "cell_type": "code",
   "execution_count": 277,
   "source": [
    "final  = transfer_f(out_list)\n",
    "for i in range(len(final)):\n",
    "    if(len(final[i])==0):\n",
    "        final[i]=[-1]"
   ],
   "outputs": [],
   "metadata": {}
  },
  {
   "cell_type": "code",
   "execution_count": 278,
   "source": [
    "id_list = []\n",
    "for i in range(len(test_data)):\n",
    "    id_list.append(i)"
   ],
   "outputs": [],
   "metadata": {}
  },
  {
   "cell_type": "code",
   "execution_count": 285,
   "source": [
    "import pandas as pd\n",
    "df = pd.DataFrame({'ID':id_list,'Predict':final})"
   ],
   "outputs": [],
   "metadata": {}
  },
  {
   "cell_type": "code",
   "execution_count": 286,
   "source": [
    "for i in range(len(final)):\n",
    "    it = df.loc[i][\"Predict\"]\n",
    "    if(it!=-1):\n",
    "        if(len(it)==1):\n",
    "            df.loc[i][\"Predict\"] = final"
   ],
   "outputs": [],
   "metadata": {}
  },
  {
   "cell_type": "code",
   "execution_count": 287,
   "source": [
    "df['Predict'] = df['Predict'].apply(lambda x:','.join(str(i) for i in x))\n",
    "df"
   ],
   "outputs": [
    {
     "output_type": "execute_result",
     "data": {
      "text/html": [
       "<div>\n",
       "<style scoped>\n",
       "    .dataframe tbody tr th:only-of-type {\n",
       "        vertical-align: middle;\n",
       "    }\n",
       "\n",
       "    .dataframe tbody tr th {\n",
       "        vertical-align: top;\n",
       "    }\n",
       "\n",
       "    .dataframe thead th {\n",
       "        text-align: right;\n",
       "    }\n",
       "</style>\n",
       "<table border=\"1\" class=\"dataframe\">\n",
       "  <thead>\n",
       "    <tr style=\"text-align: right;\">\n",
       "      <th></th>\n",
       "      <th>ID</th>\n",
       "      <th>Predict</th>\n",
       "    </tr>\n",
       "  </thead>\n",
       "  <tbody>\n",
       "    <tr>\n",
       "      <th>0</th>\n",
       "      <td>0</td>\n",
       "      <td>-1</td>\n",
       "    </tr>\n",
       "    <tr>\n",
       "      <th>1</th>\n",
       "      <td>1</td>\n",
       "      <td>-1</td>\n",
       "    </tr>\n",
       "    <tr>\n",
       "      <th>2</th>\n",
       "      <td>2</td>\n",
       "      <td>-1</td>\n",
       "    </tr>\n",
       "    <tr>\n",
       "      <th>3</th>\n",
       "      <td>3</td>\n",
       "      <td>-1</td>\n",
       "    </tr>\n",
       "    <tr>\n",
       "      <th>4</th>\n",
       "      <td>4</td>\n",
       "      <td>-1</td>\n",
       "    </tr>\n",
       "    <tr>\n",
       "      <th>...</th>\n",
       "      <td>...</td>\n",
       "      <td>...</td>\n",
       "    </tr>\n",
       "    <tr>\n",
       "      <th>795</th>\n",
       "      <td>795</td>\n",
       "      <td>-1</td>\n",
       "    </tr>\n",
       "    <tr>\n",
       "      <th>796</th>\n",
       "      <td>796</td>\n",
       "      <td>-1</td>\n",
       "    </tr>\n",
       "    <tr>\n",
       "      <th>797</th>\n",
       "      <td>797</td>\n",
       "      <td>-1</td>\n",
       "    </tr>\n",
       "    <tr>\n",
       "      <th>798</th>\n",
       "      <td>798</td>\n",
       "      <td>-1</td>\n",
       "    </tr>\n",
       "    <tr>\n",
       "      <th>799</th>\n",
       "      <td>799</td>\n",
       "      <td>-1</td>\n",
       "    </tr>\n",
       "  </tbody>\n",
       "</table>\n",
       "<p>800 rows × 2 columns</p>\n",
       "</div>"
      ],
      "text/plain": [
       "      ID Predict\n",
       "0      0      -1\n",
       "1      1      -1\n",
       "2      2      -1\n",
       "3      3      -1\n",
       "4      4      -1\n",
       "..   ...     ...\n",
       "795  795      -1\n",
       "796  796      -1\n",
       "797  797      -1\n",
       "798  798      -1\n",
       "799  799      -1\n",
       "\n",
       "[800 rows x 2 columns]"
      ]
     },
     "metadata": {},
     "execution_count": 287
    }
   ],
   "metadata": {}
  },
  {
   "cell_type": "code",
   "execution_count": 282,
   "source": [
    "df.to_csv(r'F:/LR2.csv')"
   ],
   "outputs": [],
   "metadata": {}
  },
  {
   "cell_type": "code",
   "execution_count": null,
   "source": [],
   "outputs": [],
   "metadata": {}
  },
  {
   "cell_type": "code",
   "execution_count": null,
   "source": [],
   "outputs": [],
   "metadata": {}
  },
  {
   "cell_type": "code",
   "execution_count": null,
   "source": [],
   "outputs": [],
   "metadata": {}
  }
 ],
 "metadata": {
  "kernelspec": {
   "display_name": "Python 3 (ipykernel)",
   "language": "python",
   "name": "python3"
  },
  "language_info": {
   "codemirror_mode": {
    "name": "ipython",
    "version": 3
   },
   "file_extension": ".py",
   "mimetype": "text/x-python",
   "name": "python",
   "nbconvert_exporter": "python",
   "pygments_lexer": "ipython3",
   "version": "3.9.7"
  }
 },
 "nbformat": 4,
 "nbformat_minor": 5
}