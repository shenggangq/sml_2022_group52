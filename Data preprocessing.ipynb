{
 "cells": [
  {
   "cell_type": "code",
   "execution_count": 1,
   "id": "78a782fb",
   "metadata": {},
   "outputs": [],
   "source": [
    "import numpy as np\n",
    "import json"
   ]
  },
  {
   "cell_type": "code",
   "execution_count": 2,
   "id": "d5181085",
   "metadata": {},
   "outputs": [],
   "source": [
    "train_data = json.load(open(\"train.json\"))\n",
    "test_data = json.load(open(\"test.json\"))"
   ]
  },
  {
   "cell_type": "code",
   "execution_count": 3,
   "id": "09006202",
   "metadata": {},
   "outputs": [],
   "source": [
    "title_len = []\n",
    "abstract_len = []\n",
    "len(train_data) #25793\n",
    "for i in range(len(train_data)):\n",
    "    title_len.append(len(train_data[i][\"title\"]))\n",
    "    abstract_len.append(len(train_data[i][\"abstract\"]))\n",
    "max_title = max(title_len)\n",
    "max_abstract = max(abstract_len)"
   ]
  },
  {
   "cell_type": "code",
   "execution_count": 4,
   "id": "261872f7",
   "metadata": {},
   "outputs": [
    {
     "data": {
      "text/plain": [
       "(array([2.0000e+02, 4.1900e+03, 1.0595e+04, 6.3340e+03, 3.2750e+03,\n",
       "        8.1100e+02, 1.8300e+02, 8.6000e+01, 3.8000e+01, 1.5000e+01,\n",
       "        1.3000e+01, 9.0000e+00, 1.1000e+01, 1.8000e+01, 5.0000e+00,\n",
       "        3.0000e+00, 4.0000e+00, 0.0000e+00, 3.0000e+00]),\n",
       " array([  0.        ,   6.68421053,  13.36842105,  20.05263158,\n",
       "         26.73684211,  33.42105263,  40.10526316,  46.78947368,\n",
       "         53.47368421,  60.15789474,  66.84210526,  73.52631579,\n",
       "         80.21052632,  86.89473684,  93.57894737, 100.26315789,\n",
       "        106.94736842, 113.63157895, 120.31578947, 127.        ]),\n",
       " <BarContainer object of 19 artists>)"
      ]
     },
     "execution_count": 4,
     "metadata": {},
     "output_type": "execute_result"
    },
    {
     "data": {
      "image/png": "[encoded data removed]",
      "text/plain": [
       "<Figure size 432x288 with 1 Axes>"
      ]
     },
     "metadata": {
      "needs_background": "light"
     },
     "output_type": "display_data"
    }
   ],
   "source": [
    "import matplotlib.pyplot as plt\n",
    "plt.hist(title_len,np.linspace(0,max_title,20))"
   ]
  },
  {
   "cell_type": "code",
   "execution_count": 5,
   "id": "c79d143f",
   "metadata": {},
   "outputs": [
    {
     "data": {
      "text/plain": [
       "(array([1.2790e+04, 1.2081e+04, 5.3500e+02, 1.8400e+02, 9.1000e+01,\n",
       "        6.5000e+01, 1.9000e+01, 6.0000e+00, 8.0000e+00, 2.0000e+00,\n",
       "        3.0000e+00, 1.0000e+00, 1.0000e+00, 2.0000e+00, 1.0000e+00,\n",
       "        0.0000e+00, 3.0000e+00, 0.0000e+00, 1.0000e+00]),\n",
       " array([   0.        ,  147.57894737,  295.15789474,  442.73684211,\n",
       "         590.31578947,  737.89473684,  885.47368421, 1033.05263158,\n",
       "        1180.63157895, 1328.21052632, 1475.78947368, 1623.36842105,\n",
       "        1770.94736842, 1918.52631579, 2066.10526316, 2213.68421053,\n",
       "        2361.26315789, 2508.84210526, 2656.42105263, 2804.        ]),\n",
       " <BarContainer object of 19 artists>)"
      ]
     },
     "execution_count": 5,
     "metadata": {},
     "output_type": "execute_result"
    },
    {
     "data": {
      "image/png": "[encoded data removed]",
      "text/plain": [
       "<Figure size 432x288 with 1 Axes>"
      ]
     },
     "metadata": {
      "needs_background": "light"
     },
     "output_type": "display_data"
    }
   ],
   "source": [
    "plt.hist(abstract_len,np.linspace(0,max_abstract,20))"
   ]
  },
  {
   "cell_type": "code",
   "execution_count": 6,
   "id": "89f89aa9",
   "metadata": {},
   "outputs": [],
   "source": [
    "# filter the author\n",
    "for item in train_data:\n",
    "    prolific_authors = []\n",
    "    coauthors = []\n",
    "    for i in range(len(item[\"authors\"])):\n",
    "        if item[\"authors\"][i]<100:\n",
    "            prolific_authors.append(item[\"authors\"][i])\n",
    "            coauthors = coauthors\n",
    "        else:\n",
    "            prolific_authors = prolific_authors\n",
    "            coauthors.append(item[\"authors\"][i])\n",
    "            \n",
    "        item[\"prolific_authors\"] = prolific_authors\n",
    "        item[\"coauthors\"] = coauthors"
   ]
  },
  {
   "cell_type": "markdown",
   "id": "15302142",
   "metadata": {},
   "source": [
    "# One-hot encoding"
   ]
  },
  {
   "cell_type": "code",
   "execution_count": 7,
   "id": "6255a4d6",
   "metadata": {},
   "outputs": [],
   "source": [
    "def one_hot_feature(each_item):\n",
    "    # year\n",
    "    year_vec = np.zeros(20)\n",
    "    year = each_item['year']\n",
    "    year_vec[year] = 1\n",
    "    \n",
    "    # venue\n",
    "    venue_vec = np.zeros(466) # max_n_venue+1 for if there is no specified venue\n",
    "    venue = each_item['venue']\n",
    "    if venue == '':\n",
    "        venue_vec[-1] = 1\n",
    "    else:\n",
    "        venue_vec[venue] = 1\n",
    "    \n",
    "    # title\n",
    "    title_vec = np.zeros(4999)\n",
    "    title = each_item['title']\n",
    "    for word in title:\n",
    "        title_vec[word-1] = 1\n",
    "\n",
    "    # abstract\n",
    "    abstract_vec = np.zeros(4999)\n",
    "    abstract = each_item['abstract']\n",
    "    for word in abstract:\n",
    "        abstract_vec[word-1] = 1\n",
    "        \n",
    "    # coauthor\n",
    "    coauthor_vec = np.zeros(21246)\n",
    "    coauthor = each_item[\"coauthors\"]\n",
    "    coauthor_vec[coauthor] = 1\n",
    "\n",
    "    return np.concatenate([year_vec,venue_vec, title_vec, abstract_vec, coauthor_vec])"
   ]
  },
  {
   "cell_type": "code",
   "execution_count": 8,
   "id": "45424e75",
   "metadata": {},
   "outputs": [],
   "source": [
    "# for y-label\n",
    "def one_hot_label(each_item):\n",
    "    prolific_author_vec = np.zeros(100) # ID with 1-99, extra for NONE\n",
    "    prolific_author = each_item['prolific_authors']\n",
    "    if prolific_author == '':\n",
    "        prolific_author_vec[-1] = 1\n",
    "    else:\n",
    "        prolific_author_vec[prolific_author] = 1\n",
    "    return prolific_author_vec"
   ]
  },
  {
   "cell_type": "code",
   "execution_count": null,
   "id": "7a1db7c4",
   "metadata": {},
   "outputs": [],
   "source": []
  }
 ],
 "metadata": {
  "kernelspec": {
   "display_name": "Python 3",
   "language": "python",
   "name": "python3"
  },
  "language_info": {
   "codemirror_mode": {
    "name": "ipython",
    "version": 3
   },
   "file_extension": ".py",
   "mimetype": "text/x-python",
   "name": "python",
   "nbconvert_exporter": "python",
   "pygments_lexer": "ipython3",
   "version": "3.8.8"
  }
 },
 "nbformat": 4,
 "nbformat_minor": 5
}
