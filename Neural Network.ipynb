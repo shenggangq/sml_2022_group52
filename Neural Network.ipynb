{
 "cells": [
  {
   "cell_type": "code",
   "execution_count": 56,
   "source": [
    "# load package\n",
    "import numpy as np\n",
    "import pandas as pd\n",
    "import json\n",
    "from sklearn.model_selection import train_test_split\n",
    "from sklearn.metrics import f1_score\n",
    "from sklearn.preprocessing import StandardScaler"
   ],
   "outputs": [],
   "metadata": {}
  },
  {
   "cell_type": "code",
   "execution_count": 57,
   "source": [
    "feature= np.load('feature_train.npy')\n",
    "label = np.load('labels.npy')\n",
    "test_data = np.load('feature_test.npy')"
   ],
   "outputs": [],
   "metadata": {}
  },
  {
   "cell_type": "code",
   "execution_count": 58,
   "source": [
    "# scale \n",
    "transfer = StandardScaler()\n",
    "feature = transfer.fit_transform(feature)"
   ],
   "outputs": [],
   "metadata": {}
  },
  {
   "cell_type": "markdown",
   "source": [
    "## Neural Network Method"
   ],
   "metadata": {}
  },
  {
   "cell_type": "code",
   "execution_count": 59,
   "source": [
    "import tensorflow as tf"
   ],
   "outputs": [],
   "metadata": {}
  },
  {
   "cell_type": "code",
   "execution_count": 60,
   "source": [
    "from tensorflow.keras.layers import Dense,Dropout\n",
    "from tensorflow.keras.models import Sequential"
   ],
   "outputs": [],
   "metadata": {}
  },
  {
   "cell_type": "code",
   "execution_count": null,
   "source": [
    "# method 1 copy positive label and only 25% negative number from training set\n",
    "positive = np.where(label[:,-1]!=1)\n",
    "positiveFeature = feature[positive[0]]\n",
    "positiveLabel = label[positive[0]]\n",
    "repeatFeature = np.repeat(positiveFeature,2,axis = 0)  \n",
    "repeatLabel = np.repeat(positiveLabel,2,axis=0)\n",
    "label = np.concatenate((label,repeatLabel))\n",
    "feature = np.concatenate((feature,repeatFeature))"
   ],
   "outputs": [],
   "metadata": {}
  },
  {
   "cell_type": "code",
   "execution_count": 61,
   "source": [
    "x_train,x_test,y_train,y_test = train_test_split(feature,label,test_size = 0.3, random_state = 100)"
   ],
   "outputs": [],
   "metadata": {}
  },
  {
   "cell_type": "markdown",
   "source": [
    "# ANN model"
   ],
   "metadata": {}
  },
  {
   "cell_type": "code",
   "execution_count": 63,
   "source": [
    "\n",
    "model = Sequential()\n",
    "model.add(Dense(2050,input_dim = x_train.shape[1],activation= 'tanh'))\n",
    "model.add(Dropout(0.3))\n",
    "model.add(Dense(510,activation= 'tanh'))\n",
    "model.add(Dropout(0.3))\n",
    "model.add(Dense(510,activation= 'tanh'))\n",
    "model.add(Dropout(0.3))\n",
    "model.add(Dense(250,activation= 'tanh'))\n",
    "model.add(Dropout(0.3))\n",
    "model.add(Dense(label.shape[1],activation= 'sigmoid'))\n",
    "model.compile(loss = 'binary_crossentropy',optimizer = tf.keras.optimizers.Adam())\n",
    "model.fit(x_train,y_train,epochs = 150,batch_size = 130 ,class_weight = weight)"
   ],
   "outputs": [
    {
     "output_type": "stream",
     "name": "stdout",
     "text": [
      "Epoch 1/150\n",
      "142/142 [==============================] - 14s 97ms/step - loss: 0.1321\n",
      "Epoch 2/150\n",
      "142/142 [==============================] - 14s 99ms/step - loss: 0.0363\n",
      "Epoch 3/150\n",
      "142/142 [==============================] - 14s 96ms/step - loss: 0.0244\n",
      "Epoch 4/150\n",
      "142/142 [==============================] - 13s 94ms/step - loss: 0.0232\n",
      "Epoch 5/150\n",
      "142/142 [==============================] - 13s 95ms/step - loss: 0.0229\n",
      "Epoch 6/150\n",
      "142/142 [==============================] - 13s 95ms/step - loss: 0.0220\n",
      "Epoch 7/150\n",
      "142/142 [==============================] - 13s 95ms/step - loss: 0.0217\n",
      "Epoch 8/150\n",
      "142/142 [==============================] - 13s 94ms/step - loss: 0.0214\n",
      "Epoch 9/150\n",
      "142/142 [==============================] - 14s 96ms/step - loss: 0.0208\n",
      "Epoch 10/150\n",
      "142/142 [==============================] - 13s 94ms/step - loss: 0.0206\n",
      "Epoch 11/150\n",
      "142/142 [==============================] - 14s 97ms/step - loss: 0.0202\n",
      "Epoch 12/150\n",
      "142/142 [==============================] - 13s 93ms/step - loss: 0.0200\n",
      "Epoch 13/150\n",
      "142/142 [==============================] - 14s 97ms/step - loss: 0.0199\n",
      "Epoch 14/150\n",
      "142/142 [==============================] - 14s 99ms/step - loss: 0.0195\n",
      "Epoch 15/150\n",
      "142/142 [==============================] - 13s 94ms/step - loss: 0.0192\n",
      "Epoch 16/150\n",
      "142/142 [==============================] - 14s 96ms/step - loss: 0.0187\n",
      "Epoch 17/150\n",
      "142/142 [==============================] - 14s 101ms/step - loss: 0.0184\n",
      "Epoch 18/150\n",
      "142/142 [==============================] - 15s 104ms/step - loss: 0.0181\n",
      "Epoch 19/150\n",
      "142/142 [==============================] - 13s 95ms/step - loss: 0.0176\n",
      "Epoch 20/150\n",
      "142/142 [==============================] - 13s 95ms/step - loss: 0.0171\n",
      "Epoch 21/150\n",
      "142/142 [==============================] - 14s 96ms/step - loss: 0.0169\n",
      "Epoch 22/150\n",
      "142/142 [==============================] - 13s 94ms/step - loss: 0.0160\n",
      "Epoch 23/150\n",
      "142/142 [==============================] - 14s 96ms/step - loss: 0.0154\n",
      "Epoch 24/150\n",
      "142/142 [==============================] - 13s 91ms/step - loss: 0.0147\n",
      "Epoch 25/150\n",
      "142/142 [==============================] - 13s 93ms/step - loss: 0.0140\n",
      "Epoch 26/150\n",
      "142/142 [==============================] - 13s 94ms/step - loss: 0.0133\n",
      "Epoch 27/150\n",
      "142/142 [==============================] - 13s 94ms/step - loss: 0.0125\n",
      "Epoch 28/150\n",
      "142/142 [==============================] - 13s 94ms/step - loss: 0.0117\n",
      "Epoch 29/150\n",
      "142/142 [==============================] - 13s 95ms/step - loss: 0.0112\n",
      "Epoch 30/150\n",
      "142/142 [==============================] - 13s 94ms/step - loss: 0.0103\n",
      "Epoch 31/150\n",
      "142/142 [==============================] - 14s 95ms/step - loss: 0.0097\n",
      "Epoch 32/150\n",
      "142/142 [==============================] - 13s 92ms/step - loss: 0.0090\n",
      "Epoch 33/150\n",
      "142/142 [==============================] - 13s 93ms/step - loss: 0.0086\n",
      "Epoch 34/150\n",
      "142/142 [==============================] - 14s 96ms/step - loss: 0.0081\n",
      "Epoch 35/150\n",
      "142/142 [==============================] - 13s 93ms/step - loss: 0.0075\n",
      "Epoch 36/150\n",
      "142/142 [==============================] - 13s 91ms/step - loss: 0.0071\n",
      "Epoch 37/150\n",
      "142/142 [==============================] - 13s 91ms/step - loss: 0.0067\n",
      "Epoch 38/150\n",
      "142/142 [==============================] - 13s 95ms/step - loss: 0.0062\n",
      "Epoch 39/150\n",
      "142/142 [==============================] - 13s 95ms/step - loss: 0.0060\n",
      "Epoch 40/150\n",
      "142/142 [==============================] - 13s 92ms/step - loss: 0.0056\n",
      "Epoch 41/150\n",
      "142/142 [==============================] - 13s 91ms/step - loss: 0.0053\n",
      "Epoch 42/150\n",
      "142/142 [==============================] - 13s 91ms/step - loss: 0.0051\n",
      "Epoch 43/150\n",
      "142/142 [==============================] - 13s 90ms/step - loss: 0.0049\n",
      "Epoch 44/150\n",
      "142/142 [==============================] - 13s 90ms/step - loss: 0.0046\n",
      "Epoch 45/150\n",
      "142/142 [==============================] - 13s 90ms/step - loss: 0.0044\n",
      "Epoch 46/150\n",
      "142/142 [==============================] - 13s 91ms/step - loss: 0.0045\n",
      "Epoch 47/150\n",
      "142/142 [==============================] - 13s 94ms/step - loss: 0.0041\n",
      "Epoch 48/150\n",
      "142/142 [==============================] - 13s 94ms/step - loss: 0.0039\n",
      "Epoch 49/150\n",
      "142/142 [==============================] - 13s 95ms/step - loss: 0.0037\n",
      "Epoch 50/150\n",
      "142/142 [==============================] - 13s 93ms/step - loss: 0.0037\n",
      "Epoch 51/150\n",
      "142/142 [==============================] - 13s 93ms/step - loss: 0.0036\n",
      "Epoch 52/150\n",
      "142/142 [==============================] - 13s 93ms/step - loss: 0.0034\n",
      "Epoch 53/150\n",
      "142/142 [==============================] - 14s 95ms/step - loss: 0.0033\n",
      "Epoch 54/150\n",
      "142/142 [==============================] - 13s 94ms/step - loss: 0.0032\n",
      "Epoch 55/150\n",
      "142/142 [==============================] - 13s 94ms/step - loss: 0.0031\n",
      "Epoch 56/150\n",
      "142/142 [==============================] - 13s 93ms/step - loss: 0.0031\n",
      "Epoch 57/150\n",
      "142/142 [==============================] - 13s 94ms/step - loss: 0.0030\n",
      "Epoch 58/150\n",
      "142/142 [==============================] - 13s 94ms/step - loss: 0.0030\n",
      "Epoch 59/150\n",
      "142/142 [==============================] - 14s 101ms/step - loss: 0.0028\n",
      "Epoch 60/150\n",
      "142/142 [==============================] - 15s 105ms/step - loss: 0.0028\n",
      "Epoch 61/150\n",
      "142/142 [==============================] - 14s 100ms/step - loss: 0.0027\n",
      "Epoch 62/150\n",
      "142/142 [==============================] - 14s 101ms/step - loss: 0.0026\n",
      "Epoch 63/150\n",
      "142/142 [==============================] - 15s 104ms/step - loss: 0.0026\n",
      "Epoch 64/150\n",
      "142/142 [==============================] - 14s 97ms/step - loss: 0.0025\n",
      "Epoch 65/150\n",
      "142/142 [==============================] - 13s 91ms/step - loss: 0.0024\n",
      "Epoch 66/150\n",
      "142/142 [==============================] - 13s 91ms/step - loss: 0.0025\n",
      "Epoch 67/150\n",
      "142/142 [==============================] - 13s 90ms/step - loss: 0.0024\n",
      "Epoch 68/150\n",
      "142/142 [==============================] - 13s 94ms/step - loss: 0.0023\n",
      "Epoch 69/150\n",
      "142/142 [==============================] - 13s 90ms/step - loss: 0.0023\n",
      "Epoch 70/150\n",
      "142/142 [==============================] - 13s 92ms/step - loss: 0.0022\n",
      "Epoch 71/150\n",
      "142/142 [==============================] - 13s 90ms/step - loss: 0.0022\n",
      "Epoch 72/150\n",
      "142/142 [==============================] - 13s 90ms/step - loss: 0.0022\n",
      "Epoch 73/150\n",
      "142/142 [==============================] - 13s 91ms/step - loss: 0.0021\n",
      "Epoch 74/150\n",
      "142/142 [==============================] - 13s 91ms/step - loss: 0.0021\n",
      "Epoch 75/150\n",
      "142/142 [==============================] - 13s 91ms/step - loss: 0.0020\n",
      "Epoch 76/150\n",
      "142/142 [==============================] - 14s 101ms/step - loss: 0.0020\n",
      "Epoch 77/150\n",
      "142/142 [==============================] - 14s 102ms/step - loss: 0.0020\n",
      "Epoch 78/150\n",
      "142/142 [==============================] - 14s 99ms/step - loss: 0.0020\n",
      "Epoch 79/150\n",
      "142/142 [==============================] - 14s 99ms/step - loss: 0.0020\n",
      "Epoch 80/150\n",
      "142/142 [==============================] - 14s 99ms/step - loss: 0.0019\n",
      "Epoch 81/150\n",
      "142/142 [==============================] - 14s 97ms/step - loss: 0.0019\n",
      "Epoch 82/150\n",
      "142/142 [==============================] - 13s 94ms/step - loss: 0.0019\n",
      "Epoch 83/150\n",
      "142/142 [==============================] - 13s 94ms/step - loss: 0.0018\n",
      "Epoch 84/150\n",
      "142/142 [==============================] - 13s 94ms/step - loss: 0.0018\n",
      "Epoch 85/150\n",
      "142/142 [==============================] - 14s 98ms/step - loss: 0.0018\n",
      "Epoch 86/150\n",
      "142/142 [==============================] - 14s 99ms/step - loss: 0.0018\n",
      "Epoch 87/150\n",
      "142/142 [==============================] - 14s 96ms/step - loss: 0.0018\n",
      "Epoch 88/150\n",
      "142/142 [==============================] - 13s 94ms/step - loss: 0.0018\n",
      "Epoch 89/150\n",
      "142/142 [==============================] - 13s 95ms/step - loss: 0.0018\n",
      "Epoch 90/150\n",
      "142/142 [==============================] - 13s 95ms/step - loss: 0.0018\n",
      "Epoch 91/150\n",
      "142/142 [==============================] - 13s 95ms/step - loss: 0.0017\n",
      "Epoch 92/150\n",
      "142/142 [==============================] - 14s 96ms/step - loss: 0.0017\n",
      "Epoch 93/150\n",
      "142/142 [==============================] - 13s 91ms/step - loss: 0.0017\n",
      "Epoch 94/150\n",
      "142/142 [==============================] - 13s 91ms/step - loss: 0.0017\n",
      "Epoch 95/150\n",
      "142/142 [==============================] - 13s 92ms/step - loss: 0.0017\n",
      "Epoch 96/150\n",
      "142/142 [==============================] - 13s 91ms/step - loss: 0.0017\n",
      "Epoch 97/150\n",
      "142/142 [==============================] - 13s 91ms/step - loss: 0.0016\n",
      "Epoch 98/150\n",
      "142/142 [==============================] - 13s 93ms/step - loss: 0.0016\n",
      "Epoch 99/150\n",
      "142/142 [==============================] - 13s 91ms/step - loss: 0.0016\n",
      "Epoch 100/150\n",
      "142/142 [==============================] - 13s 92ms/step - loss: 0.0016\n",
      "Epoch 101/150\n",
      "142/142 [==============================] - 13s 90ms/step - loss: 0.0016\n",
      "Epoch 102/150\n",
      "142/142 [==============================] - 13s 90ms/step - loss: 0.0016\n",
      "Epoch 103/150\n",
      "142/142 [==============================] - 13s 91ms/step - loss: 0.0017\n",
      "Epoch 104/150\n",
      "142/142 [==============================] - 13s 91ms/step - loss: 0.0016\n",
      "Epoch 105/150\n",
      "142/142 [==============================] - 13s 90ms/step - loss: 0.0015\n",
      "Epoch 106/150\n",
      "142/142 [==============================] - 13s 91ms/step - loss: 0.0015\n",
      "Epoch 107/150\n",
      "142/142 [==============================] - 13s 94ms/step - loss: 0.0015\n",
      "Epoch 108/150\n",
      "142/142 [==============================] - 14s 99ms/step - loss: 0.0015\n",
      "Epoch 109/150\n",
      "142/142 [==============================] - 14s 99ms/step - loss: 0.0015\n",
      "Epoch 110/150\n",
      "142/142 [==============================] - 14s 97ms/step - loss: 0.0015\n",
      "Epoch 111/150\n",
      "142/142 [==============================] - 14s 95ms/step - loss: 0.0015\n",
      "Epoch 112/150\n",
      "142/142 [==============================] - 14s 98ms/step - loss: 0.0015\n",
      "Epoch 113/150\n",
      "142/142 [==============================] - 14s 98ms/step - loss: 0.0015\n",
      "Epoch 114/150\n",
      "142/142 [==============================] - 14s 100ms/step - loss: 0.0014\n",
      "Epoch 115/150\n",
      "142/142 [==============================] - 14s 99ms/step - loss: 0.0014\n",
      "Epoch 116/150\n",
      "142/142 [==============================] - 14s 96ms/step - loss: 0.0014\n",
      "Epoch 117/150\n",
      "142/142 [==============================] - 14s 96ms/step - loss: 0.0015\n",
      "Epoch 118/150\n",
      "142/142 [==============================] - 13s 91ms/step - loss: 0.0014\n",
      "Epoch 119/150\n",
      "142/142 [==============================] - 13s 91ms/step - loss: 0.0014\n",
      "Epoch 120/150\n",
      "142/142 [==============================] - 13s 91ms/step - loss: 0.0014\n",
      "Epoch 121/150\n",
      "142/142 [==============================] - 13s 91ms/step - loss: 0.0014\n",
      "Epoch 122/150\n",
      "142/142 [==============================] - 13s 92ms/step - loss: 0.0014\n",
      "Epoch 123/150\n",
      "142/142 [==============================] - 13s 92ms/step - loss: 0.0014\n",
      "Epoch 124/150\n",
      "142/142 [==============================] - 14s 97ms/step - loss: 0.0014\n",
      "Epoch 125/150\n",
      "142/142 [==============================] - 13s 91ms/step - loss: 0.0013\n",
      "Epoch 126/150\n",
      "142/142 [==============================] - 13s 90ms/step - loss: 0.0013\n",
      "Epoch 127/150\n",
      "142/142 [==============================] - 13s 90ms/step - loss: 0.0014\n",
      "Epoch 128/150\n",
      "142/142 [==============================] - 13s 91ms/step - loss: 0.0013\n",
      "Epoch 129/150\n",
      "142/142 [==============================] - 13s 90ms/step - loss: 0.0013\n",
      "Epoch 130/150\n",
      "142/142 [==============================] - 13s 92ms/step - loss: 0.0013\n",
      "Epoch 131/150\n",
      "142/142 [==============================] - 13s 90ms/step - loss: 0.0014\n",
      "Epoch 132/150\n",
      "142/142 [==============================] - 13s 91ms/step - loss: 0.0013\n",
      "Epoch 133/150\n",
      "142/142 [==============================] - 13s 91ms/step - loss: 0.0013\n",
      "Epoch 134/150\n",
      "142/142 [==============================] - 13s 90ms/step - loss: 0.0013\n",
      "Epoch 135/150\n",
      "142/142 [==============================] - 13s 90ms/step - loss: 0.0013\n",
      "Epoch 136/150\n",
      "142/142 [==============================] - 13s 90ms/step - loss: 0.0013\n",
      "Epoch 137/150\n",
      "142/142 [==============================] - 13s 90ms/step - loss: 0.0013\n",
      "Epoch 138/150\n",
      "142/142 [==============================] - 13s 90ms/step - loss: 0.0013\n",
      "Epoch 139/150\n",
      "142/142 [==============================] - 13s 90ms/step - loss: 0.0013\n",
      "Epoch 140/150\n",
      "142/142 [==============================] - 13s 91ms/step - loss: 0.0013\n",
      "Epoch 141/150\n",
      "142/142 [==============================] - 13s 91ms/step - loss: 0.0013\n",
      "Epoch 142/150\n",
      "142/142 [==============================] - 13s 90ms/step - loss: 0.0013\n",
      "Epoch 143/150\n",
      "142/142 [==============================] - 13s 90ms/step - loss: 0.0012\n",
      "Epoch 144/150\n",
      "142/142 [==============================] - 13s 90ms/step - loss: 0.0013\n",
      "Epoch 145/150\n",
      "142/142 [==============================] - 13s 91ms/step - loss: 0.0012\n",
      "Epoch 146/150\n",
      "142/142 [==============================] - 13s 95ms/step - loss: 0.0013\n",
      "Epoch 147/150\n",
      "142/142 [==============================] - 13s 94ms/step - loss: 0.0013\n",
      "Epoch 148/150\n",
      "142/142 [==============================] - 14s 97ms/step - loss: 0.0012\n",
      "Epoch 149/150\n",
      "142/142 [==============================] - 14s 101ms/step - loss: 0.0012\n",
      "Epoch 150/150\n",
      "142/142 [==============================] - 14s 100ms/step - loss: 0.0013\n"
     ]
    },
    {
     "output_type": "execute_result",
     "data": {
      "text/plain": [
       "<keras.callbacks.History at 0x7fb4f1a919c0>"
      ]
     },
     "metadata": {},
     "execution_count": 63
    }
   ],
   "metadata": {}
  },
  {
   "cell_type": "code",
   "execution_count": 45,
   "source": [
    "predict = model.predict(x_train)"
   ],
   "outputs": [
    {
     "output_type": "stream",
     "name": "stdout",
     "text": [
      "565/565 [==============================] - 8s 14ms/step\n"
     ]
    }
   ],
   "metadata": {}
  },
  {
   "cell_type": "code",
   "execution_count": 46,
   "source": [
    "pred = np.where(predict>=0.5,1,0)"
   ],
   "outputs": [],
   "metadata": {}
  },
  {
   "cell_type": "code",
   "execution_count": 47,
   "source": [
    "f1_score(y_true=y_train,y_pred = pred,average = 'samples')"
   ],
   "outputs": [
    {
     "output_type": "execute_result",
     "data": {
      "text/plain": [
       "0.987920243699806"
      ]
     },
     "metadata": {},
     "execution_count": 47
    }
   ],
   "metadata": {}
  },
  {
   "cell_type": "code",
   "execution_count": 48,
   "source": [
    "predict_test = model.predict(x_test)\n",
    "pred_2 = np.where(predict_test>=0.5,1,0)"
   ],
   "outputs": [
    {
     "output_type": "stream",
     "name": "stdout",
     "text": [
      "242/242 [==============================] - 4s 15ms/step\n"
     ]
    }
   ],
   "metadata": {}
  },
  {
   "cell_type": "code",
   "execution_count": 49,
   "source": [
    "f1_score(y_true=y_test,y_pred = pred_2,average = 'samples')"
   ],
   "outputs": [
    {
     "output_type": "execute_result",
     "data": {
      "text/plain": [
       "0.8799205923767885"
      ]
     },
     "metadata": {},
     "execution_count": 49
    }
   ],
   "metadata": {}
  },
  {
   "cell_type": "code",
   "execution_count": 1,
   "source": [
    "test_data = transfer.transform(test_data)\n",
    "prediction_test = model.predict(test_data)\n",
    "pred=[]\n",
    "for p in prediction_test:\n",
    "    pred_3 = np.where(p>=0.5)\n",
    "    pred.append(pred_3)"
   ],
   "outputs": [
    {
     "output_type": "error",
     "ename": "SyntaxError",
     "evalue": "invalid syntax (2424205154.py, line 2)",
     "traceback": [
      "\u001b[0;36m  Input \u001b[0;32mIn [1]\u001b[0;36m\u001b[0m\n\u001b[0;31m    pred_3 = np.where(p>=0.5)for p in prediction_test\u001b[0m\n\u001b[0m                             ^\u001b[0m\n\u001b[0;31mSyntaxError\u001b[0m\u001b[0;31m:\u001b[0m invalid syntax\n"
     ]
    }
   ],
   "metadata": {}
  },
  {
   "cell_type": "code",
   "execution_count": 52,
   "source": [
    "df=pd.DataFrame(pred,columns=['Predict'])"
   ],
   "outputs": [],
   "metadata": {}
  },
  {
   "cell_type": "code",
   "execution_count": 27,
   "source": [
    "df.to_csv('Predice.csv')"
   ],
   "outputs": [],
   "metadata": {}
  },
  {
   "cell_type": "code",
   "execution_count": null,
   "source": [],
   "outputs": [],
   "metadata": {}
  }
 ],
 "metadata": {
  "kernelspec": {
   "display_name": "tf",
   "language": "python",
   "name": "tf"
  },
  "language_info": {
   "codemirror_mode": {
    "name": "ipython",
    "version": 3
   },
   "file_extension": ".py",
   "mimetype": "text/x-python",
   "name": "python",
   "nbconvert_exporter": "python",
   "pygments_lexer": "ipython3",
   "version": "3.10.6"
  }
 },
 "nbformat": 4,
 "nbformat_minor": 5
}